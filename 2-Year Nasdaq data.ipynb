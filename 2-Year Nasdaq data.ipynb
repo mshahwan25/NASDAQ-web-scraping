{
 "cells": [
  {
   "cell_type": "code",
   "execution_count": 4,
   "id": "d621094a",
   "metadata": {},
   "outputs": [],
   "source": [
    "import requests\n",
    "import pandas as pd\n",
    "\n",
    "#this a list of Nasdaq top 100 companines, I've downloaded it manually\n",
    "df_list = pd.read_csv('0-nasdaq_companies.csv')\n",
    "list_apprs = list(df_list['app'])\n",
    "list_names = list(df_list['company_name'])\n",
    "#defining my empty dataframe to load all the data insie\n",
    "col = ['Date','Open','High','Low','Close','Adj Close','Volume','app']\n",
    "df_all = pd.DataFrame(columns=col)\n",
    "\n",
    "#files counter\n",
    "i = 3\n",
    "#I've found the link from yahoo, finances, I can change the start and finish date depending on user options\n",
    "for appr in list_apprs:\n",
    "    url = 'https://query1.finance.yahoo.com/v7/finance/download/{}?period1=1432425600&period2=1621814400&interval=1d&events=history&includeAdjustedClose=true'.format(appr)\n",
    "\n",
    "#opening a new csv file to save the company data inside\n",
    "    with requests.get(url) as rq:\n",
    "        with open ('{}-{}.csv'.format(i, appr),'wb') as f:\n",
    "            f.write(rq.content)\n",
    "\n",
    "#adjuting file data, by adding the company appreviation & adding the company data into my big dataframe\n",
    "    df = pd.read_csv('{}-{}.csv'.format(i,appr))\n",
    "    df['app'] = appr\n",
    "    df.to_csv('{}-{}.csv'.format(i,appr), index=False)\n",
    "    df_all = df_all.append(df)\n",
    "    i +=1\n",
    "\n",
    "#adding company name by vlookup, and saving the whole list in a csv file\n",
    "df_all = pd.merge(df_all,df_list, on='app',how='left')\n",
    "df_all.to_csv('1-all_list.csv', index=False)"
   ]
  }
 ],
 "metadata": {
  "kernelspec": {
   "display_name": "Python 3",
   "language": "python",
   "name": "python3"
  },
  "language_info": {
   "codemirror_mode": {
    "name": "ipython",
    "version": 3
   },
   "file_extension": ".py",
   "mimetype": "text/x-python",
   "name": "python",
   "nbconvert_exporter": "python",
   "pygments_lexer": "ipython3",
   "version": "3.9.1"
  }
 },
 "nbformat": 4,
 "nbformat_minor": 5
}
